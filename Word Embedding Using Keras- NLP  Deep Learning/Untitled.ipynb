{
 "cells": [
  {
   "cell_type": "code",
   "execution_count": 1,
   "id": "11dbc64d-6147-4122-b2e5-75c76166da89",
   "metadata": {},
   "outputs": [],
   "source": [
    "from tensorflow.keras.preprocessing.text import one_hot"
   ]
  },
  {
   "cell_type": "markdown",
   "id": "ee90bf48-91a8-4e5b-bc68-4e8adbe6c14f",
   "metadata": {},
   "source": [
    "# sentences"
   ]
  },
  {
   "cell_type": "code",
   "execution_count": 2,
   "id": "92bf873d-4b27-4a33-a9c2-b7895540baa7",
   "metadata": {},
   "outputs": [],
   "source": [
    "### sentences\n",
    "sent=[  'the glass of milk',\n",
    "     'the glass of juice',\n",
    "     'the cup of tea',\n",
    "    'I am a good boy',\n",
    "     'I am a good developer',\n",
    "     'understand the meaning of words',\n",
    "     'your videos are good',]"
   ]
  },
  {
   "cell_type": "markdown",
   "id": "248bb5cd-7579-4ed9-9e4d-d07d0eda5d5e",
   "metadata": {},
   "source": [
    "# Vocabulary size"
   ]
  },
  {
   "cell_type": "code",
   "execution_count": 3,
   "id": "3970c91e-24a6-4f42-85f5-6165bf98b5d0",
   "metadata": {},
   "outputs": [],
   "source": [
    "### Vocabulary size\n",
    "voc_size=10000"
   ]
  },
  {
   "cell_type": "markdown",
   "id": "0635ca72-3ceb-4689-937b-c77af8107c9a",
   "metadata": {},
   "source": [
    "# Applying OneHot Encoding "
   ]
  },
  {
   "cell_type": "code",
   "execution_count": 4,
   "id": "004452c4-68f9-49cb-be94-4516ff8cb7f3",
   "metadata": {},
   "outputs": [
    {
     "name": "stdout",
     "output_type": "stream",
     "text": [
      "[[7700, 6964, 7050, 2619], [7700, 6964, 7050, 7861], [7700, 3597, 7050, 1828], [5295, 3727, 4348, 9254, 4854], [5295, 3727, 4348, 9254, 8929], [1038, 7700, 4632, 7050, 8602], [6100, 8210, 5972, 9254]]\n"
     ]
    }
   ],
   "source": [
    "onehot_repr=[one_hot(words,voc_size)for words in sent] \n",
    "print(onehot_repr)"
   ]
  },
  {
   "cell_type": "markdown",
   "id": "0360475f-faff-4f76-97f6-3709fd3c13ea",
   "metadata": {},
   "source": [
    "# Creating Model "
   ]
  },
  {
   "cell_type": "code",
   "execution_count": 5,
   "id": "752564fe-6369-4710-8fce-47de5c912b44",
   "metadata": {},
   "outputs": [],
   "source": [
    " from tensorflow.keras.layers import Embedding\n",
    "from tensorflow.keras.preprocessing.sequence import pad_sequences\n",
    "from tensorflow.keras.models import Sequential"
   ]
  },
  {
   "cell_type": "code",
   "execution_count": 6,
   "id": "90d92fa3-39e8-4c6a-8bfb-21e3307a1f9d",
   "metadata": {},
   "outputs": [],
   "source": [
    "import numpy as np"
   ]
  },
  {
   "cell_type": "markdown",
   "id": "d1f83dd1-f3ce-46b9-8960-f3288d824b93",
   "metadata": {},
   "source": [
    "## Applying Padding "
   ]
  },
  {
   "cell_type": "code",
   "execution_count": 7,
   "id": "d04a2e02-45f3-4fc2-a951-b1693c5a6d65",
   "metadata": {},
   "outputs": [
    {
     "name": "stdout",
     "output_type": "stream",
     "text": [
      "[[   0    0    0    0 7700 6964 7050 2619]\n",
      " [   0    0    0    0 7700 6964 7050 7861]\n",
      " [   0    0    0    0 7700 3597 7050 1828]\n",
      " [   0    0    0 5295 3727 4348 9254 4854]\n",
      " [   0    0    0 5295 3727 4348 9254 8929]\n",
      " [   0    0    0 1038 7700 4632 7050 8602]\n",
      " [   0    0    0    0 6100 8210 5972 9254]]\n"
     ]
    }
   ],
   "source": [
    "sent_length=8\n",
    "embedded_docs=pad_sequences(onehot_repr,padding='pre',maxlen=sent_length)\n",
    "print(embedded_docs)"
   ]
  },
  {
   "cell_type": "markdown",
   "id": "44a755d8-43a8-4629-94fe-0f20e12faaf8",
   "metadata": {},
   "source": [
    "## Building Model "
   ]
  },
  {
   "cell_type": "code",
   "execution_count": 8,
   "id": "83553bab-67b4-4897-859b-d47ec1c8bf74",
   "metadata": {},
   "outputs": [
    {
     "name": "stderr",
     "output_type": "stream",
     "text": [
      "D:\\conda\\Lib\\site-packages\\keras\\src\\layers\\core\\embedding.py:90: UserWarning: Argument `input_length` is deprecated. Just remove it.\n",
      "  warnings.warn(\n"
     ]
    }
   ],
   "source": [
    "model=Sequential()\n",
    "model.add(Embedding(voc_size,10,input_length=sent_length))   # 10 is dimention each one hot converted word be embedded to 10 dimentional vector\n",
    "model.compile('adam','mse')"
   ]
  },
  {
   "cell_type": "code",
   "execution_count": 9,
   "id": "a0ab77bd-f83a-4c60-8996-1f745eae3f38",
   "metadata": {},
   "outputs": [
    {
     "data": {
      "text/html": [
       "<pre style=\"white-space:pre;overflow-x:auto;line-height:normal;font-family:Menlo,'DejaVu Sans Mono',consolas,'Courier New',monospace\"><span style=\"font-weight: bold\">Model: \"sequential\"</span>\n",
       "</pre>\n"
      ],
      "text/plain": [
       "\u001b[1mModel: \"sequential\"\u001b[0m\n"
      ]
     },
     "metadata": {},
     "output_type": "display_data"
    },
    {
     "data": {
      "text/html": [
       "<pre style=\"white-space:pre;overflow-x:auto;line-height:normal;font-family:Menlo,'DejaVu Sans Mono',consolas,'Courier New',monospace\">┏━━━━━━━━━━━━━━━━━━━━━━━━━━━━━━━━━━━━━━┳━━━━━━━━━━━━━━━━━━━━━━━━━━━━━┳━━━━━━━━━━━━━━━━━┓\n",
       "┃<span style=\"font-weight: bold\"> Layer (type)                         </span>┃<span style=\"font-weight: bold\"> Output Shape                </span>┃<span style=\"font-weight: bold\">         Param # </span>┃\n",
       "┡━━━━━━━━━━━━━━━━━━━━━━━━━━━━━━━━━━━━━━╇━━━━━━━━━━━━━━━━━━━━━━━━━━━━━╇━━━━━━━━━━━━━━━━━┩\n",
       "│ embedding (<span style=\"color: #0087ff; text-decoration-color: #0087ff\">Embedding</span>)                │ ?                           │     <span style=\"color: #00af00; text-decoration-color: #00af00\">0</span> (unbuilt) │\n",
       "└──────────────────────────────────────┴─────────────────────────────┴─────────────────┘\n",
       "</pre>\n"
      ],
      "text/plain": [
       "┏━━━━━━━━━━━━━━━━━━━━━━━━━━━━━━━━━━━━━━┳━━━━━━━━━━━━━━━━━━━━━━━━━━━━━┳━━━━━━━━━━━━━━━━━┓\n",
       "┃\u001b[1m \u001b[0m\u001b[1mLayer (type)                        \u001b[0m\u001b[1m \u001b[0m┃\u001b[1m \u001b[0m\u001b[1mOutput Shape               \u001b[0m\u001b[1m \u001b[0m┃\u001b[1m \u001b[0m\u001b[1m        Param #\u001b[0m\u001b[1m \u001b[0m┃\n",
       "┡━━━━━━━━━━━━━━━━━━━━━━━━━━━━━━━━━━━━━━╇━━━━━━━━━━━━━━━━━━━━━━━━━━━━━╇━━━━━━━━━━━━━━━━━┩\n",
       "│ embedding (\u001b[38;5;33mEmbedding\u001b[0m)                │ ?                           │     \u001b[38;5;34m0\u001b[0m (unbuilt) │\n",
       "└──────────────────────────────────────┴─────────────────────────────┴─────────────────┘\n"
      ]
     },
     "metadata": {},
     "output_type": "display_data"
    },
    {
     "data": {
      "text/html": [
       "<pre style=\"white-space:pre;overflow-x:auto;line-height:normal;font-family:Menlo,'DejaVu Sans Mono',consolas,'Courier New',monospace\"><span style=\"font-weight: bold\"> Total params: </span><span style=\"color: #00af00; text-decoration-color: #00af00\">0</span> (0.00 B)\n",
       "</pre>\n"
      ],
      "text/plain": [
       "\u001b[1m Total params: \u001b[0m\u001b[38;5;34m0\u001b[0m (0.00 B)\n"
      ]
     },
     "metadata": {},
     "output_type": "display_data"
    },
    {
     "data": {
      "text/html": [
       "<pre style=\"white-space:pre;overflow-x:auto;line-height:normal;font-family:Menlo,'DejaVu Sans Mono',consolas,'Courier New',monospace\"><span style=\"font-weight: bold\"> Trainable params: </span><span style=\"color: #00af00; text-decoration-color: #00af00\">0</span> (0.00 B)\n",
       "</pre>\n"
      ],
      "text/plain": [
       "\u001b[1m Trainable params: \u001b[0m\u001b[38;5;34m0\u001b[0m (0.00 B)\n"
      ]
     },
     "metadata": {},
     "output_type": "display_data"
    },
    {
     "data": {
      "text/html": [
       "<pre style=\"white-space:pre;overflow-x:auto;line-height:normal;font-family:Menlo,'DejaVu Sans Mono',consolas,'Courier New',monospace\"><span style=\"font-weight: bold\"> Non-trainable params: </span><span style=\"color: #00af00; text-decoration-color: #00af00\">0</span> (0.00 B)\n",
       "</pre>\n"
      ],
      "text/plain": [
       "\u001b[1m Non-trainable params: \u001b[0m\u001b[38;5;34m0\u001b[0m (0.00 B)\n"
      ]
     },
     "metadata": {},
     "output_type": "display_data"
    }
   ],
   "source": [
    "model.summary()"
   ]
  },
  {
   "cell_type": "markdown",
   "id": "1cff7001-e1ae-4ad2-acab-e1bb2c23b74c",
   "metadata": {},
   "source": [
    "# Embedding 1St Sentence "
   ]
  },
  {
   "cell_type": "code",
   "execution_count": 11,
   "id": "b31309d4-cc50-4583-a113-86f69000d947",
   "metadata": {},
   "outputs": [
    {
     "name": "stdout",
     "output_type": "stream",
     "text": [
      "\u001b[1m1/1\u001b[0m \u001b[32m━━━━━━━━━━━━━━━━━━━━\u001b[0m\u001b[37m\u001b[0m \u001b[1m0s\u001b[0m 27ms/step\n",
      "[[ 0.01368009  0.04558991  0.01132729  0.03401026 -0.0379302   0.04283759\n",
      "  -0.0436375   0.04600289  0.02059649  0.04407569]\n",
      " [ 0.01368009  0.04558991  0.01132729  0.03401026 -0.0379302   0.04283759\n",
      "  -0.0436375   0.04600289  0.02059649  0.04407569]\n",
      " [ 0.01368009  0.04558991  0.01132729  0.03401026 -0.0379302   0.04283759\n",
      "  -0.0436375   0.04600289  0.02059649  0.04407569]\n",
      " [ 0.01368009  0.04558991  0.01132729  0.03401026 -0.0379302   0.04283759\n",
      "  -0.0436375   0.04600289  0.02059649  0.04407569]\n",
      " [-0.01381979 -0.03503861  0.0244554   0.04938294 -0.03431021  0.00668774\n",
      "  -0.02301731  0.04992063 -0.04847167 -0.0151853 ]\n",
      " [-0.03741808  0.04190708 -0.00201254  0.03241557 -0.04953895  0.02999531\n",
      "  -0.00629296 -0.03573124  0.04666363  0.01598519]\n",
      " [ 0.04297629 -0.01647832 -0.01587936  0.03331722 -0.00305869  0.03259932\n",
      "  -0.02634745  0.03990933  0.03546704 -0.02927399]\n",
      " [ 0.00986804  0.03330499 -0.04853634  0.04749559  0.01377055  0.03587241\n",
      "  -0.0114462  -0.02153108  0.00061733 -0.01712645]]\n"
     ]
    }
   ],
   "source": [
    "print(model.predict(embedded_docs)[0])  # each word after applyting OME is embedded to 10 dimentional vector "
   ]
  },
  {
   "cell_type": "code",
   "execution_count": null,
   "id": "13786771-73b0-471f-950a-6f9ccbb6e8e9",
   "metadata": {},
   "outputs": [],
   "source": []
  }
 ],
 "metadata": {
  "kernelspec": {
   "display_name": "Python 3 (ipykernel)",
   "language": "python",
   "name": "python3"
  },
  "language_info": {
   "codemirror_mode": {
    "name": "ipython",
    "version": 3
   },
   "file_extension": ".py",
   "mimetype": "text/x-python",
   "name": "python",
   "nbconvert_exporter": "python",
   "pygments_lexer": "ipython3",
   "version": "3.11.9"
  }
 },
 "nbformat": 4,
 "nbformat_minor": 5
}
